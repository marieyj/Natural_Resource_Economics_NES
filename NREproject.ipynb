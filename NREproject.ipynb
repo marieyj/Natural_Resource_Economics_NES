{
  "nbformat": 4,
  "nbformat_minor": 0,
  "metadata": {
    "colab": {
      "provenance": []
    },
    "kernelspec": {
      "name": "python3",
      "display_name": "Python 3"
    },
    "language_info": {
      "name": "python"
    }
  },
  "cells": [
    {
      "cell_type": "code",
      "execution_count": 1,
      "metadata": {
        "id": "imh3an50R0df"
      },
      "outputs": [],
      "source": [
        "import numpy as np\n",
        "import pandas as pd\n",
        "import scipy.stats as sp\n",
        "import matplotlib.pyplot as plt\n",
        "from statsmodels.formula.api import ols"
      ]
    },
    {
      "cell_type": "code",
      "source": [
        "import statsmodels.formula.api as smf\n",
        "import statsmodels.tsa.api as smt\n",
        "import statsmodels.api as sm"
      ],
      "metadata": {
        "id": "9TcVVmkOoOI7"
      },
      "execution_count": 2,
      "outputs": []
    },
    {
      "cell_type": "code",
      "source": [
        "from statsmodels.iolib.summary2 import summary_col"
      ],
      "metadata": {
        "id": "PQ0XklE3vd_j"
      },
      "execution_count": 17,
      "outputs": []
    },
    {
      "cell_type": "code",
      "source": [
        "!pip install linearmodels"
      ],
      "metadata": {
        "id": "xs8ht1AXXPZW"
      },
      "execution_count": null,
      "outputs": []
    },
    {
      "cell_type": "code",
      "source": [
        "from linearmodels import PanelOLS, RandomEffects"
      ],
      "metadata": {
        "id": "OUYPcL2kXUAo"
      },
      "execution_count": 79,
      "outputs": []
    },
    {
      "cell_type": "markdown",
      "source": [
        "**Happiness score analysis**\n",
        "\n",
        "In this part happiness score will be analyzed at the country level. \n",
        "\n"
      ],
      "metadata": {
        "id": "H17nmmDo4ofX"
      }
    },
    {
      "cell_type": "code",
      "source": [
        "#Read and process the data\n",
        "data1 = pd.read_excel('Resources_data1.xlsx')"
      ],
      "metadata": {
        "id": "XqPY7ixQToh4"
      },
      "execution_count": 3,
      "outputs": []
    },
    {
      "cell_type": "code",
      "source": [
        "data1.head()"
      ],
      "metadata": {
        "colab": {
          "base_uri": "https://localhost:8080/",
          "height": 285
        },
        "id": "vIYILOXX5I1h",
        "outputId": "9f1613f5-9771-4f1a-f1bc-57cb1238e80b"
      },
      "execution_count": 4,
      "outputs": [
        {
          "output_type": "execute_result",
          "data": {
            "text/plain": [
              "   Year  Happiness_score  Oil_Production  Oil_dependence  \\\n",
              "0  2010         5.384773       10.330000             9.9   \n",
              "1  2011         5.388766       10.408923            11.4   \n",
              "2  2012         5.620736       10.596198            10.3   \n",
              "3  2013         5.537178       10.765588             9.1   \n",
              "4  2014         6.036977       10.853318             9.2   \n",
              "\n",
              "   Income_per_capita(const_2015)  Unemployment     delta    Ln_inc   laagged  \\\n",
              "0                          7.108           7.4       NaN  1.961221       NaN   \n",
              "1                          7.783           6.5 -0.003993  2.051942  5.384773   \n",
              "2                          8.087           5.4 -0.231969  2.090258  5.388766   \n",
              "3                          8.040           5.5  0.083558  2.084429  5.620736   \n",
              "4                          7.865           5.2 -0.499799  2.062423  5.537178   \n",
              "\n",
              "   Voice _account  Gov_Effectiveness  Regulatory_quality  Rule_of_law  \\\n",
              "0       -0.888973          -0.468849           -0.353289    -0.764919   \n",
              "1       -0.883594          -0.470777           -0.349168    -0.725692   \n",
              "2       -0.978818          -0.420560           -0.338137    -0.818428   \n",
              "3       -1.022177          -0.355087           -0.351682    -0.784240   \n",
              "4       -1.044410          -0.109697           -0.388624    -0.741557   \n",
              "\n",
              "   Political_stab  Control_corrup  \n",
              "0       -0.929459       -1.090829  \n",
              "1       -0.998262       -1.065004  \n",
              "2       -0.817713       -1.042263  \n",
              "3       -0.736094       -1.013164  \n",
              "4       -0.943617       -0.919227  "
            ],
            "text/html": [
              "\n",
              "  <div id=\"df-5c8b88de-49d0-45d6-a715-54d92a8cab23\">\n",
              "    <div class=\"colab-df-container\">\n",
              "      <div>\n",
              "<style scoped>\n",
              "    .dataframe tbody tr th:only-of-type {\n",
              "        vertical-align: middle;\n",
              "    }\n",
              "\n",
              "    .dataframe tbody tr th {\n",
              "        vertical-align: top;\n",
              "    }\n",
              "\n",
              "    .dataframe thead th {\n",
              "        text-align: right;\n",
              "    }\n",
              "</style>\n",
              "<table border=\"1\" class=\"dataframe\">\n",
              "  <thead>\n",
              "    <tr style=\"text-align: right;\">\n",
              "      <th></th>\n",
              "      <th>Year</th>\n",
              "      <th>Happiness_score</th>\n",
              "      <th>Oil_Production</th>\n",
              "      <th>Oil_dependence</th>\n",
              "      <th>Income_per_capita(const_2015)</th>\n",
              "      <th>Unemployment</th>\n",
              "      <th>delta</th>\n",
              "      <th>Ln_inc</th>\n",
              "      <th>laagged</th>\n",
              "      <th>Voice _account</th>\n",
              "      <th>Gov_Effectiveness</th>\n",
              "      <th>Regulatory_quality</th>\n",
              "      <th>Rule_of_law</th>\n",
              "      <th>Political_stab</th>\n",
              "      <th>Control_corrup</th>\n",
              "    </tr>\n",
              "  </thead>\n",
              "  <tbody>\n",
              "    <tr>\n",
              "      <th>0</th>\n",
              "      <td>2010</td>\n",
              "      <td>5.384773</td>\n",
              "      <td>10.330000</td>\n",
              "      <td>9.9</td>\n",
              "      <td>7.108</td>\n",
              "      <td>7.4</td>\n",
              "      <td>NaN</td>\n",
              "      <td>1.961221</td>\n",
              "      <td>NaN</td>\n",
              "      <td>-0.888973</td>\n",
              "      <td>-0.468849</td>\n",
              "      <td>-0.353289</td>\n",
              "      <td>-0.764919</td>\n",
              "      <td>-0.929459</td>\n",
              "      <td>-1.090829</td>\n",
              "    </tr>\n",
              "    <tr>\n",
              "      <th>1</th>\n",
              "      <td>2011</td>\n",
              "      <td>5.388766</td>\n",
              "      <td>10.408923</td>\n",
              "      <td>11.4</td>\n",
              "      <td>7.783</td>\n",
              "      <td>6.5</td>\n",
              "      <td>-0.003993</td>\n",
              "      <td>2.051942</td>\n",
              "      <td>5.384773</td>\n",
              "      <td>-0.883594</td>\n",
              "      <td>-0.470777</td>\n",
              "      <td>-0.349168</td>\n",
              "      <td>-0.725692</td>\n",
              "      <td>-0.998262</td>\n",
              "      <td>-1.065004</td>\n",
              "    </tr>\n",
              "    <tr>\n",
              "      <th>2</th>\n",
              "      <td>2012</td>\n",
              "      <td>5.620736</td>\n",
              "      <td>10.596198</td>\n",
              "      <td>10.3</td>\n",
              "      <td>8.087</td>\n",
              "      <td>5.4</td>\n",
              "      <td>-0.231969</td>\n",
              "      <td>2.090258</td>\n",
              "      <td>5.388766</td>\n",
              "      <td>-0.978818</td>\n",
              "      <td>-0.420560</td>\n",
              "      <td>-0.338137</td>\n",
              "      <td>-0.818428</td>\n",
              "      <td>-0.817713</td>\n",
              "      <td>-1.042263</td>\n",
              "    </tr>\n",
              "    <tr>\n",
              "      <th>3</th>\n",
              "      <td>2013</td>\n",
              "      <td>5.537178</td>\n",
              "      <td>10.765588</td>\n",
              "      <td>9.1</td>\n",
              "      <td>8.040</td>\n",
              "      <td>5.5</td>\n",
              "      <td>0.083558</td>\n",
              "      <td>2.084429</td>\n",
              "      <td>5.620736</td>\n",
              "      <td>-1.022177</td>\n",
              "      <td>-0.355087</td>\n",
              "      <td>-0.351682</td>\n",
              "      <td>-0.784240</td>\n",
              "      <td>-0.736094</td>\n",
              "      <td>-1.013164</td>\n",
              "    </tr>\n",
              "    <tr>\n",
              "      <th>4</th>\n",
              "      <td>2014</td>\n",
              "      <td>6.036977</td>\n",
              "      <td>10.853318</td>\n",
              "      <td>9.2</td>\n",
              "      <td>7.865</td>\n",
              "      <td>5.2</td>\n",
              "      <td>-0.499799</td>\n",
              "      <td>2.062423</td>\n",
              "      <td>5.537178</td>\n",
              "      <td>-1.044410</td>\n",
              "      <td>-0.109697</td>\n",
              "      <td>-0.388624</td>\n",
              "      <td>-0.741557</td>\n",
              "      <td>-0.943617</td>\n",
              "      <td>-0.919227</td>\n",
              "    </tr>\n",
              "  </tbody>\n",
              "</table>\n",
              "</div>\n",
              "      <button class=\"colab-df-convert\" onclick=\"convertToInteractive('df-5c8b88de-49d0-45d6-a715-54d92a8cab23')\"\n",
              "              title=\"Convert this dataframe to an interactive table.\"\n",
              "              style=\"display:none;\">\n",
              "        \n",
              "  <svg xmlns=\"http://www.w3.org/2000/svg\" height=\"24px\"viewBox=\"0 0 24 24\"\n",
              "       width=\"24px\">\n",
              "    <path d=\"M0 0h24v24H0V0z\" fill=\"none\"/>\n",
              "    <path d=\"M18.56 5.44l.94 2.06.94-2.06 2.06-.94-2.06-.94-.94-2.06-.94 2.06-2.06.94zm-11 1L8.5 8.5l.94-2.06 2.06-.94-2.06-.94L8.5 2.5l-.94 2.06-2.06.94zm10 10l.94 2.06.94-2.06 2.06-.94-2.06-.94-.94-2.06-.94 2.06-2.06.94z\"/><path d=\"M17.41 7.96l-1.37-1.37c-.4-.4-.92-.59-1.43-.59-.52 0-1.04.2-1.43.59L10.3 9.45l-7.72 7.72c-.78.78-.78 2.05 0 2.83L4 21.41c.39.39.9.59 1.41.59.51 0 1.02-.2 1.41-.59l7.78-7.78 2.81-2.81c.8-.78.8-2.07 0-2.86zM5.41 20L4 18.59l7.72-7.72 1.47 1.35L5.41 20z\"/>\n",
              "  </svg>\n",
              "      </button>\n",
              "      \n",
              "  <style>\n",
              "    .colab-df-container {\n",
              "      display:flex;\n",
              "      flex-wrap:wrap;\n",
              "      gap: 12px;\n",
              "    }\n",
              "\n",
              "    .colab-df-convert {\n",
              "      background-color: #E8F0FE;\n",
              "      border: none;\n",
              "      border-radius: 50%;\n",
              "      cursor: pointer;\n",
              "      display: none;\n",
              "      fill: #1967D2;\n",
              "      height: 32px;\n",
              "      padding: 0 0 0 0;\n",
              "      width: 32px;\n",
              "    }\n",
              "\n",
              "    .colab-df-convert:hover {\n",
              "      background-color: #E2EBFA;\n",
              "      box-shadow: 0px 1px 2px rgba(60, 64, 67, 0.3), 0px 1px 3px 1px rgba(60, 64, 67, 0.15);\n",
              "      fill: #174EA6;\n",
              "    }\n",
              "\n",
              "    [theme=dark] .colab-df-convert {\n",
              "      background-color: #3B4455;\n",
              "      fill: #D2E3FC;\n",
              "    }\n",
              "\n",
              "    [theme=dark] .colab-df-convert:hover {\n",
              "      background-color: #434B5C;\n",
              "      box-shadow: 0px 1px 3px 1px rgba(0, 0, 0, 0.15);\n",
              "      filter: drop-shadow(0px 1px 2px rgba(0, 0, 0, 0.3));\n",
              "      fill: #FFFFFF;\n",
              "    }\n",
              "  </style>\n",
              "\n",
              "      <script>\n",
              "        const buttonEl =\n",
              "          document.querySelector('#df-5c8b88de-49d0-45d6-a715-54d92a8cab23 button.colab-df-convert');\n",
              "        buttonEl.style.display =\n",
              "          google.colab.kernel.accessAllowed ? 'block' : 'none';\n",
              "\n",
              "        async function convertToInteractive(key) {\n",
              "          const element = document.querySelector('#df-5c8b88de-49d0-45d6-a715-54d92a8cab23');\n",
              "          const dataTable =\n",
              "            await google.colab.kernel.invokeFunction('convertToInteractive',\n",
              "                                                     [key], {});\n",
              "          if (!dataTable) return;\n",
              "\n",
              "          const docLinkHtml = 'Like what you see? Visit the ' +\n",
              "            '<a target=\"_blank\" href=https://colab.research.google.com/notebooks/data_table.ipynb>data table notebook</a>'\n",
              "            + ' to learn more about interactive tables.';\n",
              "          element.innerHTML = '';\n",
              "          dataTable['output_type'] = 'display_data';\n",
              "          await google.colab.output.renderOutput(dataTable, element);\n",
              "          const docLink = document.createElement('div');\n",
              "          docLink.innerHTML = docLinkHtml;\n",
              "          element.appendChild(docLink);\n",
              "        }\n",
              "      </script>\n",
              "    </div>\n",
              "  </div>\n",
              "  "
            ]
          },
          "metadata": {},
          "execution_count": 4
        }
      ]
    },
    {
      "cell_type": "code",
      "source": [
        "#Time-series data -> set index\n",
        "data1.set_index('Year', inplace=True)"
      ],
      "metadata": {
        "id": "hAoGkIaOzJGP"
      },
      "execution_count": 5,
      "outputs": []
    },
    {
      "cell_type": "code",
      "source": [
        "#Look at data distribution & whether we have missing values\n",
        "data1['Happiness_score'].plot(color='wheat', marker='o', ls='');"
      ],
      "metadata": {
        "colab": {
          "base_uri": "https://localhost:8080/",
          "height": 279
        },
        "id": "Xi_Di8aO538t",
        "outputId": "b3253b03-08eb-45ad-da67-e6a7004a4de4"
      },
      "execution_count": 8,
      "outputs": [
        {
          "output_type": "display_data",
          "data": {
            "text/plain": [
              "<Figure size 432x288 with 1 Axes>"
            ],
            "image/png": "[encoded data removed]"
          },
          "metadata": {
            "needs_background": "light"
          }
        }
      ]
    },
    {
      "cell_type": "code",
      "source": [
        "plt.hist(data1.Happiness_score,\n",
        "        color = 'wheat', edgecolor = 'black')\n",
        "plt.title('Distribution of Happiness Scores')\n",
        "plt.ylabel('Frequency')\n",
        "plt.xlabel('Happiness Scores')"
      ],
      "metadata": {
        "colab": {
          "base_uri": "https://localhost:8080/",
          "height": 312
        },
        "id": "ulriwb5Z7JLd",
        "outputId": "6c2a0dd7-3109-459b-8548-0a4c8b0d0f85"
      },
      "execution_count": 9,
      "outputs": [
        {
          "output_type": "execute_result",
          "data": {
            "text/plain": [
              "Text(0.5, 0, 'Happiness Scores')"
            ]
          },
          "metadata": {},
          "execution_count": 9
        },
        {
          "output_type": "display_data",
          "data": {
            "text/plain": [
              "<Figure size 432x288 with 1 Axes>"
            ],
            "image/png": "[encoded data removed]"
          },
          "metadata": {
            "needs_background": "light"
          }
        }
      ]
    },
    {
      "cell_type": "code",
      "source": [
        "data1.info()"
      ],
      "metadata": {
        "colab": {
          "base_uri": "https://localhost:8080/"
        },
        "id": "xDrzyENbrwUi",
        "outputId": "6d2c0c3d-5bb2-47c2-e9c4-754dff739be4"
      },
      "execution_count": 10,
      "outputs": [
        {
          "output_type": "stream",
          "name": "stdout",
          "text": [
            "<class 'pandas.core.frame.DataFrame'>\n",
            "Int64Index: 11 entries, 2010 to 2020\n",
            "Data columns (total 14 columns):\n",
            " #   Column                         Non-Null Count  Dtype  \n",
            "---  ------                         --------------  -----  \n",
            " 0   Happiness_score                11 non-null     float64\n",
            " 1   Oil_Production                 11 non-null     float64\n",
            " 2   Oil_dependence                 11 non-null     float64\n",
            " 3   Income_per_capita(const_2015)  11 non-null     float64\n",
            " 4   Unemployment                   11 non-null     float64\n",
            " 5   delta                          10 non-null     float64\n",
            " 6   Ln_inc                         11 non-null     float64\n",
            " 7   laagged                        10 non-null     float64\n",
            " 8   Voice _account                 11 non-null     float64\n",
            " 9   Gov_Effectiveness              11 non-null     float64\n",
            " 10  Regulatory_quality             11 non-null     float64\n",
            " 11  Rule_of_law                    11 non-null     float64\n",
            " 12  Political_stab                 11 non-null     float64\n",
            " 13  Control_corrup                 11 non-null     float64\n",
            "dtypes: float64(14)\n",
            "memory usage: 1.3 KB\n"
          ]
        }
      ]
    },
    {
      "cell_type": "markdown",
      "source": [
        "Basic regression with and without dummies. We are interested in modelling the link between oil dependence and happiness score. "
      ],
      "metadata": {
        "id": "TOWsA-0Y8Kd5"
      }
    },
    {
      "cell_type": "code",
      "source": [
        "est = smf.ols(formula='Happiness_score ~ Oil_dependence', data=data1).fit()\n",
        "print (est.summary())"
      ],
      "metadata": {
        "colab": {
          "base_uri": "https://localhost:8080/"
        },
        "id": "y4_m1FDsrdC6",
        "outputId": "63063c17-679e-49fd-c55a-b34ea6eb8b63"
      },
      "execution_count": 11,
      "outputs": [
        {
          "output_type": "stream",
          "name": "stdout",
          "text": [
            "                            OLS Regression Results                            \n",
            "==============================================================================\n",
            "Dep. Variable:        Happiness_score   R-squared:                       0.219\n",
            "Model:                            OLS   Adj. R-squared:                  0.132\n",
            "Method:                 Least Squares   F-statistic:                     2.526\n",
            "Date:                Sat, 12 Nov 2022   Prob (F-statistic):              0.146\n",
            "Time:                        13:02:51   Log-Likelihood:                 2.2639\n",
            "No. Observations:                  11   AIC:                           -0.5278\n",
            "Df Residuals:                       9   BIC:                            0.2680\n",
            "Df Model:                           1                                         \n",
            "Covariance Type:            nonrobust                                         \n",
            "==================================================================================\n",
            "                     coef    std err          t      P>|t|      [0.025      0.975]\n",
            "----------------------------------------------------------------------------------\n",
            "Intercept          6.0562      0.281     21.577      0.000       5.421       6.691\n",
            "Oil_dependence    -0.0517      0.033     -1.589      0.146      -0.125       0.022\n",
            "==============================================================================\n",
            "Omnibus:                        4.071   Durbin-Watson:                   1.116\n",
            "Prob(Omnibus):                  0.131   Jarque-Bera (JB):                1.805\n",
            "Skew:                           0.988   Prob(JB):                        0.406\n",
            "Kurtosis:                       3.192   Cond. No.                         37.4\n",
            "==============================================================================\n",
            "\n",
            "Notes:\n",
            "[1] Standard Errors assume that the covariance matrix of the errors is correctly specified.\n"
          ]
        },
        {
          "output_type": "stream",
          "name": "stderr",
          "text": [
          ]
        }
      ]
    },
    {
      "cell_type": "code",
      "source": [
        "est1 = smf.ols(formula='Happiness_score ~ Oil_dependence + Ln_inc', data=data1).fit()\n",
        "print (est1.summary())"
      ],
      "metadata": {
        "colab": {
          "base_uri": "https://localhost:8080/"
        },
        "id": "ttiyErC91v7_",
        "outputId": "e33baace-a17e-448a-f6e3-b43d68e4fd64"
      },
      "execution_count": 12,
      "outputs": [
        {
          "output_type": "stream",
          "name": "stdout",
          "text": [
            "                            OLS Regression Results                            \n",
            "==============================================================================\n",
            "Dep. Variable:        Happiness_score   R-squared:                       0.259\n",
            "Model:                            OLS   Adj. R-squared:                  0.074\n",
            "Method:                 Least Squares   F-statistic:                     1.397\n",
            "Date:                Sat, 12 Nov 2022   Prob (F-statistic):              0.302\n",
            "Time:                        13:04:28   Log-Likelihood:                 2.5506\n",
            "No. Observations:                  11   AIC:                            0.8988\n",
            "Df Residuals:                       8   BIC:                             2.092\n",
            "Df Model:                           2                                         \n",
            "Covariance Type:            nonrobust                                         \n",
            "==================================================================================\n",
            "                     coef    std err          t      P>|t|      [0.025      0.975]\n",
            "----------------------------------------------------------------------------------\n",
            "Intercept          3.6663      3.664      1.001      0.346      -4.783      12.116\n",
            "Oil_dependence    -0.0667      0.041     -1.639      0.140      -0.161       0.027\n",
            "Ln_inc             1.2396      1.895      0.654      0.531      -3.129       5.608\n",
            "==============================================================================\n",
            "Omnibus:                        2.698   Durbin-Watson:                   1.182\n",
            "Prob(Omnibus):                  0.260   Jarque-Bera (JB):                1.116\n",
            "Skew:                           0.780   Prob(JB):                        0.572\n",
            "Kurtosis:                       3.042   Cond. No.                         541.\n",
            "==============================================================================\n",
            "\n",
            "Notes:\n",
            "[1] Standard Errors assume that the covariance matrix of the errors is correctly specified.\n"
          ]
        },
        {
          "output_type": "stream",
          "name": "stderr",
          "text": [
            
          ]
        }
      ]
    },
    {
      "cell_type": "code",
      "source": [
        "est2 = smf.ols(formula='Happiness_score ~ Oil_dependence + Ln_inc + Unemployment', data=data1).fit()\n",
        "print (est2.summary())"
      ],
      "metadata": {
        "colab": {
          "base_uri": "https://localhost:8080/"
        },
        "id": "ZYYn8toY2YhJ",
        "outputId": "e0121f8f-7bb2-4795-825f-a8506a608523"
      },
      "execution_count": 13,
      "outputs": [
        {
          "output_type": "stream",
          "name": "stdout",
          "text": [
            "                            OLS Regression Results                            \n",
            "==============================================================================\n",
            "Dep. Variable:        Happiness_score   R-squared:                       0.261\n",
            "Model:                            OLS   Adj. R-squared:                 -0.056\n",
            "Method:                 Least Squares   F-statistic:                    0.8221\n",
            "Date:                Sat, 12 Nov 2022   Prob (F-statistic):              0.522\n",
            "Time:                        13:04:31   Log-Likelihood:                 2.5633\n",
            "No. Observations:                  11   AIC:                             2.873\n",
            "Df Residuals:                       7   BIC:                             4.465\n",
            "Df Model:                           3                                         \n",
            "Covariance Type:            nonrobust                                         \n",
            "==================================================================================\n",
            "                     coef    std err          t      P>|t|      [0.025      0.975]\n",
            "----------------------------------------------------------------------------------\n",
            "Intercept          4.2099      5.801      0.726      0.492      -9.508      17.928\n",
            "Oil_dependence    -0.0624      0.055     -1.133      0.295      -0.193       0.068\n",
            "Ln_inc             1.0008      2.763      0.362      0.728      -5.532       7.534\n",
            "Unemployment      -0.0171      0.134     -0.127      0.903      -0.335       0.301\n",
            "==============================================================================\n",
            "Omnibus:                        2.662   Durbin-Watson:                   1.136\n",
            "Prob(Omnibus):                  0.264   Jarque-Bera (JB):                1.141\n",
            "Skew:                           0.789   Prob(JB):                        0.565\n",
            "Kurtosis:                       2.998   Cond. No.                         929.\n",
            "==============================================================================\n",
            "\n",
            "Notes:\n",
            "[1] Standard Errors assume that the covariance matrix of the errors is correctly specified.\n"
          ]
        },
        {
          "output_type": "stream",
          "name": "stderr",
          "text": [
            
          ]
        }
      ]
    },
    {
      "cell_type": "code",
      "source": [
        "#WGI Index\n",
        "est3 = smf.ols(formula='Happiness_score ~ Oil_dependence + Ln_inc + Political_stab', data=data1).fit()\n",
        "print (est3.summary())"
      ],
      "metadata": {
        "colab": {
          "base_uri": "https://localhost:8080/"
        },
        "id": "LtIbTPR72mHb",
        "outputId": "57f0df2f-437b-4fe3-f180-3bced3870512"
      },
      "execution_count": 14,
      "outputs": [
        {
          "output_type": "stream",
          "name": "stdout",
          "text": [
            "                            OLS Regression Results                            \n",
            "==============================================================================\n",
            "Dep. Variable:        Happiness_score   R-squared:                       0.540\n",
            "Model:                            OLS   Adj. R-squared:                  0.343\n",
            "Method:                 Least Squares   F-statistic:                     2.740\n",
            "Date:                Sat, 12 Nov 2022   Prob (F-statistic):              0.123\n",
            "Time:                        13:07:43   Log-Likelihood:                 5.1747\n",
            "No. Observations:                  11   AIC:                            -2.349\n",
            "Df Residuals:                       7   BIC:                           -0.7577\n",
            "Df Model:                           3                                         \n",
            "Covariance Type:            nonrobust                                         \n",
            "==================================================================================\n",
            "                     coef    std err          t      P>|t|      [0.025      0.975]\n",
            "----------------------------------------------------------------------------------\n",
            "Intercept          1.1380      3.319      0.343      0.742      -6.710       8.986\n",
            "Oil_dependence    -0.0755      0.035     -2.187      0.065      -0.157       0.006\n",
            "Ln_inc             2.2296      1.666      1.338      0.223      -1.709       6.168\n",
            "Political_stab    -0.7354      0.355     -2.069      0.077      -1.576       0.105\n",
            "==============================================================================\n",
            "Omnibus:                        0.360   Durbin-Watson:                   1.592\n",
            "Prob(Omnibus):                  0.835   Jarque-Bera (JB):                0.182\n",
            "Skew:                           0.254   Prob(JB):                        0.913\n",
            "Kurtosis:                       2.627   Cond. No.                         581.\n",
            "==============================================================================\n",
            "\n",
            "Notes:\n",
            "[1] Standard Errors assume that the covariance matrix of the errors is correctly specified.\n"
          ]
        },
        {
          "output_type": "stream",
          "name": "stderr",
          "text": [
            
          ]
        }
      ]
    },
    {
      "cell_type": "code",
      "source": [
        "#WGI indexes\n",
        "est4 = smf.ols(formula='Happiness_score ~ Oil_dependence + Ln_inc + Rule_of_law + Political_stab', data=data1).fit()\n",
        "print (est4.summary())"
      ],
      "metadata": {
        "colab": {
          "base_uri": "https://localhost:8080/"
        },
        "id": "-iLsku5Q21Av",
        "outputId": "2ef0d156-591c-460d-d5db-2df3ee0f2927"
      },
      "execution_count": 15,
      "outputs": [
        {
          "output_type": "stream",
          "name": "stdout",
          "text": [
            "                            OLS Regression Results                            \n",
            "==============================================================================\n",
            "Dep. Variable:        Happiness_score   R-squared:                       0.547\n",
            "Model:                            OLS   Adj. R-squared:                  0.245\n",
            "Method:                 Least Squares   F-statistic:                     1.813\n",
            "Date:                Sat, 12 Nov 2022   Prob (F-statistic):              0.245\n",
            "Time:                        13:07:45   Log-Likelihood:                 5.2613\n",
            "No. Observations:                  11   AIC:                           -0.5225\n",
            "Df Residuals:                       6   BIC:                             1.467\n",
            "Df Model:                           4                                         \n",
            "Covariance Type:            nonrobust                                         \n",
            "==================================================================================\n",
            "                     coef    std err          t      P>|t|      [0.025      0.975]\n",
            "----------------------------------------------------------------------------------\n",
            "Intercept          0.5984      3.963      0.151      0.885      -9.100      10.297\n",
            "Oil_dependence    -0.0733      0.038     -1.944      0.100      -0.166       0.019\n",
            "Ln_inc             2.2189      1.785      1.243      0.260      -2.150       6.588\n",
            "Rule_of_law       -0.6899      2.236     -0.309      0.768      -6.161       4.781\n",
            "Political_stab    -0.7509      0.384     -1.954      0.098      -1.691       0.189\n",
            "==============================================================================\n",
            "Omnibus:                        1.006   Durbin-Watson:                   1.587\n",
            "Prob(Omnibus):                  0.605   Jarque-Bera (JB):                0.400\n",
            "Skew:                           0.454   Prob(JB):                        0.819\n",
            "Kurtosis:                       2.779   Cond. No.                         643.\n",
            "==============================================================================\n",
            "\n",
            "Notes:\n",
            "[1] Standard Errors assume that the covariance matrix of the errors is correctly specified.\n"
          ]
        },
        {
          "output_type": "stream",
          "name": "stderr",
          "text": [
           
          ]
        }
      ]
    },
    {
      "cell_type": "code",
      "source": [
        "#Collecting all the results in one table\n",
        "print(summary_col([est,est1,est2,est3,est4],regressor_order=['const', 'x1'], stars=True,float_format='%0.3f',\n",
        "    model_names=['one\\n(0)','two\\n(1)', 'three\\n(1)', 'four\\n(1)', 'five\\n(1)'],\n",
        "    ))"
      ],
      "metadata": {
        "colab": {
          "base_uri": "https://localhost:8080/"
        },
        "id": "vnzRsVoO9WmC",
        "outputId": "833cdf3f-0696-4907-ed79-0c2e7b2b5b08"
      },
      "execution_count": 24,
      "outputs": [
        {
          "output_type": "stream",
          "name": "stdout",
          "text": [
            "\n",
            "=======================================================\n",
            "                 one      two    three    four    five \n",
            "                 (0)      (1)     (1)     (1)     (1)  \n",
            "-------------------------------------------------------\n",
            "Intercept      6.056*** 3.666   4.210   1.138   0.598  \n",
            "               (0.281)  (3.664) (5.801) (3.319) (3.963)\n",
            "Ln_inc                  1.240   1.001   2.230   2.219  \n",
            "                        (1.895) (2.763) (1.666) (1.785)\n",
            "Oil_dependence -0.052   -0.067  -0.062  -0.076* -0.073*\n",
            "               (0.033)  (0.041) (0.055) (0.035) (0.038)\n",
            "Political_stab                          -0.735* -0.751*\n",
            "                                        (0.355) (0.384)\n",
            "Rule_of_law                                     -0.690 \n",
            "                                                (2.236)\n",
            "Unemployment                    -0.017                 \n",
            "                                (0.134)                \n",
            "R-squared      0.219    0.259   0.261   0.540   0.547  \n",
            "R-squared Adj. 0.132    0.074   -0.056  0.343   0.245  \n",
            "=======================================================\n",
            "Standard errors in parentheses.\n",
            "* p<.1, ** p<.05, ***p<.01\n"
          ]
        }
      ]
    },
    {
      "cell_type": "markdown",
      "source": [
        "**Life satisfaction score analysis** \\\\\n",
        "In this part we will analyze the effect of resource wealth, proxied by oil-dependence, on people well-being at the region level."
      ],
      "metadata": {
        "id": "yc3XhlcMAZF6"
      }
    },
    {
      "cell_type": "code",
      "source": [
        "data = pd.read_excel('F00010964-WVS_Wave_7.xlsx')"
      ],
      "metadata": {
        "id": "w1puiqsvSy-z"
      },
      "execution_count": 25,
      "outputs": []
    },
    {
      "cell_type": "code",
      "source": [
        "#data = data[['D_INTERVIEW: Interview ID', 'Q49: Satisfaction with your life', 'A_YEAR: Year of survey', 'N_REGION_ISO: Region ISO 3166-2', 'N_REGION_WVS: Region country specific', 'N_TOWN: Settlement name', 'Q260: Sex', 'Q262: Age', 'Q273: Marital status', 'Q274: How many children do you have', 'Q275R: Highest educational level: Respondent (recoded into 3 groups)', 'Q279: Employment status', 'Q288R: Income level (Recoded)']]"
      ],
      "metadata": {
        "id": "RGKhc4QC3bmV"
      },
      "execution_count": null,
      "outputs": []
    },
    {
      "cell_type": "code",
      "source": [
        "list(data.columns.values)"
      ],
      "metadata": {
        "colab": {
          "base_uri": "https://localhost:8080/"
        },
        "id": "zVc0Ohbk4yQG",
        "outputId": "762f4722-0f29-4d20-e81d-6c237b14e5c0"
      },
      "execution_count": 26,
      "outputs": [
        {
          "output_type": "execute_result",
          "data": {
            "text/plain": [
              "['A_YEARYearofsurvey',\n",
              " 'D_INTERVIEWInterviewID',\n",
              " 'N_REGION_ISORegionISO31662',\n",
              " 'N_REGION_WVSRegioncountryspe',\n",
              " 'N_TOWNSettlementname',\n",
              " 'Q49Satisfactionwithyourlife',\n",
              " 'Q260Sex',\n",
              " 'Q262Age',\n",
              " 'Q273Maritalstatus',\n",
              " 'Q274Howmanychildrendoyouh',\n",
              " 'Q275RHighesteducationallevel',\n",
              " 'Q279Employmentstatus',\n",
              " 'Q288RIncomelevelRecoded']"
            ]
          },
          "metadata": {},
          "execution_count": 26
        }
      ]
    },
    {
      "cell_type": "code",
      "source": [
        "data.tail()"
      ],
      "metadata": {
        "colab": {
          "base_uri": "https://localhost:8080/",
          "height": 268
        },
        "id": "9BURLlr_6gOa",
        "outputId": "ebdb7b4d-05d1-4026-b867-46fd963c7ab4"
      },
      "execution_count": 27,
      "outputs": [
        {
          "output_type": "execute_result",
          "data": {
            "text/plain": [
              "      A_YEARYearofsurvey  D_INTERVIEWInterviewID  N_REGION_ISORegionISO31662  \\\n",
              "1707                2017               643071806                      643052   \n",
              "1708                2017               643071807                      643052   \n",
              "1709                2017               643071808                      643052   \n",
              "1710                2017               643071809                      643052   \n",
              "1711                2017               643071810                      643052   \n",
              "\n",
              "      N_REGION_WVSRegioncountryspe  N_TOWNSettlementname  \\\n",
              "1707                        643002                643030   \n",
              "1708                        643002                643030   \n",
              "1709                        643002                643030   \n",
              "1710                        643002                643030   \n",
              "1711                        643002                643030   \n",
              "\n",
              "      Q49Satisfactionwithyourlife  Q260Sex  Q262Age  Q273Maritalstatus  \\\n",
              "1707                            8        1       67                  5   \n",
              "1708                            7        1       74                  3   \n",
              "1709                            5        1       55                  1   \n",
              "1710                            9        2       30                  1   \n",
              "1711                            3        1       38                  1   \n",
              "\n",
              "      Q274Howmanychildrendoyouh  Q275RHighesteducationallevel  \\\n",
              "1707                          2                             2   \n",
              "1708                          1                             3   \n",
              "1709                          1                             3   \n",
              "1710                          1                             1   \n",
              "1711                          6                             2   \n",
              "\n",
              "      Q279Employmentstatus  Q288RIncomelevelRecoded  \n",
              "1707                     4                        3  \n",
              "1708                     4                        2  \n",
              "1709                     1                        1  \n",
              "1710                     1                        2  \n",
              "1711                     1                        2  "
            ],
            "text/html": [
              "\n",
              "  <div id=\"df-ce7c95c0-ed3f-4a28-866e-b2df4055fe57\">\n",
              "    <div class=\"colab-df-container\">\n",
              "      <div>\n",
              "<style scoped>\n",
              "    .dataframe tbody tr th:only-of-type {\n",
              "        vertical-align: middle;\n",
              "    }\n",
              "\n",
              "    .dataframe tbody tr th {\n",
              "        vertical-align: top;\n",
              "    }\n",
              "\n",
              "    .dataframe thead th {\n",
              "        text-align: right;\n",
              "    }\n",
              "</style>\n",
              "<table border=\"1\" class=\"dataframe\">\n",
              "  <thead>\n",
              "    <tr style=\"text-align: right;\">\n",
              "      <th></th>\n",
              "      <th>A_YEARYearofsurvey</th>\n",
              "      <th>D_INTERVIEWInterviewID</th>\n",
              "      <th>N_REGION_ISORegionISO31662</th>\n",
              "      <th>N_REGION_WVSRegioncountryspe</th>\n",
              "      <th>N_TOWNSettlementname</th>\n",
              "      <th>Q49Satisfactionwithyourlife</th>\n",
              "      <th>Q260Sex</th>\n",
              "      <th>Q262Age</th>\n",
              "      <th>Q273Maritalstatus</th>\n",
              "      <th>Q274Howmanychildrendoyouh</th>\n",
              "      <th>Q275RHighesteducationallevel</th>\n",
              "      <th>Q279Employmentstatus</th>\n",
              "      <th>Q288RIncomelevelRecoded</th>\n",
              "    </tr>\n",
              "  </thead>\n",
              "  <tbody>\n",
              "    <tr>\n",
              "      <th>1707</th>\n",
              "      <td>2017</td>\n",
              "      <td>643071806</td>\n",
              "      <td>643052</td>\n",
              "      <td>643002</td>\n",
              "      <td>643030</td>\n",
              "      <td>8</td>\n",
              "      <td>1</td>\n",
              "      <td>67</td>\n",
              "      <td>5</td>\n",
              "      <td>2</td>\n",
              "      <td>2</td>\n",
              "      <td>4</td>\n",
              "      <td>3</td>\n",
              "    </tr>\n",
              "    <tr>\n",
              "      <th>1708</th>\n",
              "      <td>2017</td>\n",
              "      <td>643071807</td>\n",
              "      <td>643052</td>\n",
              "      <td>643002</td>\n",
              "      <td>643030</td>\n",
              "      <td>7</td>\n",
              "      <td>1</td>\n",
              "      <td>74</td>\n",
              "      <td>3</td>\n",
              "      <td>1</td>\n",
              "      <td>3</td>\n",
              "      <td>4</td>\n",
              "      <td>2</td>\n",
              "    </tr>\n",
              "    <tr>\n",
              "      <th>1709</th>\n",
              "      <td>2017</td>\n",
              "      <td>643071808</td>\n",
              "      <td>643052</td>\n",
              "      <td>643002</td>\n",
              "      <td>643030</td>\n",
              "      <td>5</td>\n",
              "      <td>1</td>\n",
              "      <td>55</td>\n",
              "      <td>1</td>\n",
              "      <td>1</td>\n",
              "      <td>3</td>\n",
              "      <td>1</td>\n",
              "      <td>1</td>\n",
              "    </tr>\n",
              "    <tr>\n",
              "      <th>1710</th>\n",
              "      <td>2017</td>\n",
              "      <td>643071809</td>\n",
              "      <td>643052</td>\n",
              "      <td>643002</td>\n",
              "      <td>643030</td>\n",
              "      <td>9</td>\n",
              "      <td>2</td>\n",
              "      <td>30</td>\n",
              "      <td>1</td>\n",
              "      <td>1</td>\n",
              "      <td>1</td>\n",
              "      <td>1</td>\n",
              "      <td>2</td>\n",
              "    </tr>\n",
              "    <tr>\n",
              "      <th>1711</th>\n",
              "      <td>2017</td>\n",
              "      <td>643071810</td>\n",
              "      <td>643052</td>\n",
              "      <td>643002</td>\n",
              "      <td>643030</td>\n",
              "      <td>3</td>\n",
              "      <td>1</td>\n",
              "      <td>38</td>\n",
              "      <td>1</td>\n",
              "      <td>6</td>\n",
              "      <td>2</td>\n",
              "      <td>1</td>\n",
              "      <td>2</td>\n",
              "    </tr>\n",
              "  </tbody>\n",
              "</table>\n",
              "</div>\n",
              "      <button class=\"colab-df-convert\" onclick=\"convertToInteractive('df-ce7c95c0-ed3f-4a28-866e-b2df4055fe57')\"\n",
              "              title=\"Convert this dataframe to an interactive table.\"\n",
              "              style=\"display:none;\">\n",
              "        \n",
              "  <svg xmlns=\"http://www.w3.org/2000/svg\" height=\"24px\"viewBox=\"0 0 24 24\"\n",
              "       width=\"24px\">\n",
              "    <path d=\"M0 0h24v24H0V0z\" fill=\"none\"/>\n",
              "    <path d=\"M18.56 5.44l.94 2.06.94-2.06 2.06-.94-2.06-.94-.94-2.06-.94 2.06-2.06.94zm-11 1L8.5 8.5l.94-2.06 2.06-.94-2.06-.94L8.5 2.5l-.94 2.06-2.06.94zm10 10l.94 2.06.94-2.06 2.06-.94-2.06-.94-.94-2.06-.94 2.06-2.06.94z\"/><path d=\"M17.41 7.96l-1.37-1.37c-.4-.4-.92-.59-1.43-.59-.52 0-1.04.2-1.43.59L10.3 9.45l-7.72 7.72c-.78.78-.78 2.05 0 2.83L4 21.41c.39.39.9.59 1.41.59.51 0 1.02-.2 1.41-.59l7.78-7.78 2.81-2.81c.8-.78.8-2.07 0-2.86zM5.41 20L4 18.59l7.72-7.72 1.47 1.35L5.41 20z\"/>\n",
              "  </svg>\n",
              "      </button>\n",
              "      \n",
              "  <style>\n",
              "    .colab-df-container {\n",
              "      display:flex;\n",
              "      flex-wrap:wrap;\n",
              "      gap: 12px;\n",
              "    }\n",
              "\n",
              "    .colab-df-convert {\n",
              "      background-color: #E8F0FE;\n",
              "      border: none;\n",
              "      border-radius: 50%;\n",
              "      cursor: pointer;\n",
              "      display: none;\n",
              "      fill: #1967D2;\n",
              "      height: 32px;\n",
              "      padding: 0 0 0 0;\n",
              "      width: 32px;\n",
              "    }\n",
              "\n",
              "    .colab-df-convert:hover {\n",
              "      background-color: #E2EBFA;\n",
              "      box-shadow: 0px 1px 2px rgba(60, 64, 67, 0.3), 0px 1px 3px 1px rgba(60, 64, 67, 0.15);\n",
              "      fill: #174EA6;\n",
              "    }\n",
              "\n",
              "    [theme=dark] .colab-df-convert {\n",
              "      background-color: #3B4455;\n",
              "      fill: #D2E3FC;\n",
              "    }\n",
              "\n",
              "    [theme=dark] .colab-df-convert:hover {\n",
              "      background-color: #434B5C;\n",
              "      box-shadow: 0px 1px 3px 1px rgba(0, 0, 0, 0.15);\n",
              "      filter: drop-shadow(0px 1px 2px rgba(0, 0, 0, 0.3));\n",
              "      fill: #FFFFFF;\n",
              "    }\n",
              "  </style>\n",
              "\n",
              "      <script>\n",
              "        const buttonEl =\n",
              "          document.querySelector('#df-ce7c95c0-ed3f-4a28-866e-b2df4055fe57 button.colab-df-convert');\n",
              "        buttonEl.style.display =\n",
              "          google.colab.kernel.accessAllowed ? 'block' : 'none';\n",
              "\n",
              "        async function convertToInteractive(key) {\n",
              "          const element = document.querySelector('#df-ce7c95c0-ed3f-4a28-866e-b2df4055fe57');\n",
              "          const dataTable =\n",
              "            await google.colab.kernel.invokeFunction('convertToInteractive',\n",
              "                                                     [key], {});\n",
              "          if (!dataTable) return;\n",
              "\n",
              "          const docLinkHtml = 'Like what you see? Visit the ' +\n",
              "            '<a target=\"_blank\" href=https://colab.research.google.com/notebooks/data_table.ipynb>data table notebook</a>'\n",
              "            + ' to learn more about interactive tables.';\n",
              "          element.innerHTML = '';\n",
              "          dataTable['output_type'] = 'display_data';\n",
              "          await google.colab.output.renderOutput(dataTable, element);\n",
              "          const docLink = document.createElement('div');\n",
              "          docLink.innerHTML = docLinkHtml;\n",
              "          element.appendChild(docLink);\n",
              "        }\n",
              "      </script>\n",
              "    </div>\n",
              "  </div>\n",
              "  "
            ]
          },
          "metadata": {},
          "execution_count": 27
        }
      ]
    },
    {
      "cell_type": "code",
      "source": [
        "data.info()"
      ],
      "metadata": {
        "colab": {
          "base_uri": "https://localhost:8080/"
        },
        "id": "ooauQpC-8j07",
        "outputId": "5e0977e0-9574-48a0-ac92-d7f598c67694"
      },
      "execution_count": 28,
      "outputs": [
        {
          "output_type": "stream",
          "name": "stdout",
          "text": [
            "<class 'pandas.core.frame.DataFrame'>\n",
            "RangeIndex: 1712 entries, 0 to 1711\n",
            "Data columns (total 13 columns):\n",
            " #   Column                        Non-Null Count  Dtype\n",
            "---  ------                        --------------  -----\n",
            " 0   A_YEARYearofsurvey            1712 non-null   int64\n",
            " 1   D_INTERVIEWInterviewID        1712 non-null   int64\n",
            " 2   N_REGION_ISORegionISO31662    1712 non-null   int64\n",
            " 3   N_REGION_WVSRegioncountryspe  1712 non-null   int64\n",
            " 4   N_TOWNSettlementname          1712 non-null   int64\n",
            " 5   Q49Satisfactionwithyourlife   1712 non-null   int64\n",
            " 6   Q260Sex                       1712 non-null   int64\n",
            " 7   Q262Age                       1712 non-null   int64\n",
            " 8   Q273Maritalstatus             1712 non-null   int64\n",
            " 9   Q274Howmanychildrendoyouh     1712 non-null   int64\n",
            " 10  Q275RHighesteducationallevel  1712 non-null   int64\n",
            " 11  Q279Employmentstatus          1712 non-null   int64\n",
            " 12  Q288RIncomelevelRecoded       1712 non-null   int64\n",
            "dtypes: int64(13)\n",
            "memory usage: 174.0 KB\n"
          ]
        }
      ]
    },
    {
      "cell_type": "code",
      "source": [
        "#Look at data visualization \n",
        "plt.hist(data.Q49Satisfactionwithyourlife,\n",
        "        color = 'wheat', edgecolor = 'black')\n",
        "plt.title('Distribution of Life_satisfaction Scores')\n",
        "plt.ylabel('Frequency')\n",
        "plt.xlabel('Life satisfaction Scores')"
      ],
      "metadata": {
        "colab": {
          "base_uri": "https://localhost:8080/",
          "height": 312
        },
        "id": "BDRoIyKi6RqW",
        "outputId": "f7bce757-a437-4bdf-e74d-c467a27fb9ed"
      },
      "execution_count": 29,
      "outputs": [
        {
          "output_type": "execute_result",
          "data": {
            "text/plain": [
              "Text(0.5, 0, 'Life satisfaction Scores')"
            ]
          },
          "metadata": {},
          "execution_count": 29
        },
        {
          "output_type": "display_data",
          "data": {
            "text/plain": [
              "<Figure size 432x288 with 1 Axes>"
            ],
            "image/png": "[encoded data removed]"
          },
          "metadata": {
            "needs_background": "light"
          }
        }
      ]
    },
    {
      "cell_type": "markdown",
      "source": [
        "*Dummy creation and regression* \\\\\n",
        "During the poll, people of all the ages were surveyed. Moreover, such sections as number of children, marital status, etc, contain more detailed data than just binary answers Yes or No. Hence, for more accurate data for modelling we will divide people into groups, instead of just getting dummies for each. "
      ],
      "metadata": {
        "id": "xYo103BSBrsb"
      }
    },
    {
      "cell_type": "code",
      "source": [
        "def label_age (row):\n",
        "   if row['Q262Age'] <= 29 :\n",
        "      return 1\n",
        "   return 0"
      ],
      "metadata": {
        "id": "3Aflsm_6sgp_"
      },
      "execution_count": 30,
      "outputs": []
    },
    {
      "cell_type": "code",
      "source": [
        "df = data"
      ],
      "metadata": {
        "id": "dNProYUHtZ3s"
      },
      "execution_count": 31,
      "outputs": []
    },
    {
      "cell_type": "code",
      "source": [
        "df.apply (lambda row: label_age(row), axis=1)"
      ],
      "metadata": {
        "id": "A2GMeMi3tekL"
      },
      "execution_count": null,
      "outputs": []
    },
    {
      "cell_type": "code",
      "source": [
        "df['d_age_first_int'] = df.apply (lambda row: label_age(row), axis=1)"
      ],
      "metadata": {
        "id": "A7yoeqW4tiR-"
      },
      "execution_count": 33,
      "outputs": []
    },
    {
      "cell_type": "code",
      "source": [
        "def label_age1 (row):\n",
        "   if row['Q262Age'] >= 30 and row['Q262Age'] <= 45 :\n",
        "      return 1\n",
        "   return 0"
      ],
      "metadata": {
        "id": "f_e40hnmt8td"
      },
      "execution_count": 34,
      "outputs": []
    },
    {
      "cell_type": "code",
      "source": [
        "df.apply (lambda row: label_age1(row), axis=1)"
      ],
      "metadata": {
        "colab": {
          "base_uri": "https://localhost:8080/"
        },
        "id": "gcXKhzk6RB1J",
        "outputId": "a8ee213f-b125-452d-b501-527787b57ce0"
      },
      "execution_count": 91,
      "outputs": [
        {
          "output_type": "execute_result",
          "data": {
            "text/plain": [
              "A_YEARYearofsurvey\n",
              "2017    1\n",
              "2017    0\n",
              "2017    1\n",
              "2017    0\n",
              "2017    0\n",
              "       ..\n",
              "2017    0\n",
              "2017    0\n",
              "2017    0\n",
              "2017    1\n",
              "2017    1\n",
              "Length: 1712, dtype: int64"
            ]
          },
          "metadata": {},
          "execution_count": 91
        }
      ]
    },
    {
      "cell_type": "code",
      "source": [
        "df['d_age_second_int'] = df.apply (lambda row: label_age1(row), axis=1)"
      ],
      "metadata": {
        "id": "qkcz8tBrRFnl"
      },
      "execution_count": 36,
      "outputs": []
    },
    {
      "cell_type": "code",
      "source": [
        "df.head()"
      ],
      "metadata": {
        "colab": {
          "base_uri": "https://localhost:8080/",
          "height": 268
        },
        "id": "lvSeTKEgRKx1",
        "outputId": "5d1179ab-2350-4f5e-dcd7-3bb1e6e1f0f1"
      },
      "execution_count": 37,
      "outputs": [
        {
          "output_type": "execute_result",
          "data": {
            "text/plain": [
              "   A_YEARYearofsurvey  D_INTERVIEWInterviewID  N_REGION_ISORegionISO31662  \\\n",
              "0                2017               643070001                      643077   \n",
              "1                2017               643070002                      643077   \n",
              "2                2017               643070003                      643077   \n",
              "3                2017               643070004                      643063   \n",
              "4                2017               643070005                      643063   \n",
              "\n",
              "   N_REGION_WVSRegioncountryspe  N_TOWNSettlementname  \\\n",
              "0                        643003                643028   \n",
              "1                        643003                643028   \n",
              "2                        643003                643028   \n",
              "3                        643007                643045   \n",
              "4                        643007                643045   \n",
              "\n",
              "   Q49Satisfactionwithyourlife  Q260Sex  Q262Age  Q273Maritalstatus  \\\n",
              "0                            9        2       36                  1   \n",
              "1                            6        2       58                  1   \n",
              "2                            9        1       42                  1   \n",
              "3                            4        2       47                  6   \n",
              "4                            4        2       61                  1   \n",
              "\n",
              "   Q274Howmanychildrendoyouh  Q275RHighesteducationallevel  \\\n",
              "0                          2                             3   \n",
              "1                          2                             3   \n",
              "2                          2                             3   \n",
              "3                          1                             3   \n",
              "4                          2                             3   \n",
              "\n",
              "   Q279Employmentstatus  Q288RIncomelevelRecoded  d_age_first_int  \\\n",
              "0                     5                        3                0   \n",
              "1                     1                        2                0   \n",
              "2                     1                        2                0   \n",
              "3                     5                        1                0   \n",
              "4                     1                        2                0   \n",
              "\n",
              "   d_age_second_int  \n",
              "0                 1  \n",
              "1                 0  \n",
              "2                 1  \n",
              "3                 0  \n",
              "4                 0  "
            ],
            "text/html": [
              "\n",
              "  <div id=\"df-b88e0b7a-82cc-4680-9cbc-9bf2378ed6f7\">\n",
              "    <div class=\"colab-df-container\">\n",
              "      <div>\n",
              "<style scoped>\n",
              "    .dataframe tbody tr th:only-of-type {\n",
              "        vertical-align: middle;\n",
              "    }\n",
              "\n",
              "    .dataframe tbody tr th {\n",
              "        vertical-align: top;\n",
              "    }\n",
              "\n",
              "    .dataframe thead th {\n",
              "        text-align: right;\n",
              "    }\n",
              "</style>\n",
              "<table border=\"1\" class=\"dataframe\">\n",
              "  <thead>\n",
              "    <tr style=\"text-align: right;\">\n",
              "      <th></th>\n",
              "      <th>A_YEARYearofsurvey</th>\n",
              "      <th>D_INTERVIEWInterviewID</th>\n",
              "      <th>N_REGION_ISORegionISO31662</th>\n",
              "      <th>N_REGION_WVSRegioncountryspe</th>\n",
              "      <th>N_TOWNSettlementname</th>\n",
              "      <th>Q49Satisfactionwithyourlife</th>\n",
              "      <th>Q260Sex</th>\n",
              "      <th>Q262Age</th>\n",
              "      <th>Q273Maritalstatus</th>\n",
              "      <th>Q274Howmanychildrendoyouh</th>\n",
              "      <th>Q275RHighesteducationallevel</th>\n",
              "      <th>Q279Employmentstatus</th>\n",
              "      <th>Q288RIncomelevelRecoded</th>\n",
              "      <th>d_age_first_int</th>\n",
              "      <th>d_age_second_int</th>\n",
              "    </tr>\n",
              "  </thead>\n",
              "  <tbody>\n",
              "    <tr>\n",
              "      <th>0</th>\n",
              "      <td>2017</td>\n",
              "      <td>643070001</td>\n",
              "      <td>643077</td>\n",
              "      <td>643003</td>\n",
              "      <td>643028</td>\n",
              "      <td>9</td>\n",
              "      <td>2</td>\n",
              "      <td>36</td>\n",
              "      <td>1</td>\n",
              "      <td>2</td>\n",
              "      <td>3</td>\n",
              "      <td>5</td>\n",
              "      <td>3</td>\n",
              "      <td>0</td>\n",
              "      <td>1</td>\n",
              "    </tr>\n",
              "    <tr>\n",
              "      <th>1</th>\n",
              "      <td>2017</td>\n",
              "      <td>643070002</td>\n",
              "      <td>643077</td>\n",
              "      <td>643003</td>\n",
              "      <td>643028</td>\n",
              "      <td>6</td>\n",
              "      <td>2</td>\n",
              "      <td>58</td>\n",
              "      <td>1</td>\n",
              "      <td>2</td>\n",
              "      <td>3</td>\n",
              "      <td>1</td>\n",
              "      <td>2</td>\n",
              "      <td>0</td>\n",
              "      <td>0</td>\n",
              "    </tr>\n",
              "    <tr>\n",
              "      <th>2</th>\n",
              "      <td>2017</td>\n",
              "      <td>643070003</td>\n",
              "      <td>643077</td>\n",
              "      <td>643003</td>\n",
              "      <td>643028</td>\n",
              "      <td>9</td>\n",
              "      <td>1</td>\n",
              "      <td>42</td>\n",
              "      <td>1</td>\n",
              "      <td>2</td>\n",
              "      <td>3</td>\n",
              "      <td>1</td>\n",
              "      <td>2</td>\n",
              "      <td>0</td>\n",
              "      <td>1</td>\n",
              "    </tr>\n",
              "    <tr>\n",
              "      <th>3</th>\n",
              "      <td>2017</td>\n",
              "      <td>643070004</td>\n",
              "      <td>643063</td>\n",
              "      <td>643007</td>\n",
              "      <td>643045</td>\n",
              "      <td>4</td>\n",
              "      <td>2</td>\n",
              "      <td>47</td>\n",
              "      <td>6</td>\n",
              "      <td>1</td>\n",
              "      <td>3</td>\n",
              "      <td>5</td>\n",
              "      <td>1</td>\n",
              "      <td>0</td>\n",
              "      <td>0</td>\n",
              "    </tr>\n",
              "    <tr>\n",
              "      <th>4</th>\n",
              "      <td>2017</td>\n",
              "      <td>643070005</td>\n",
              "      <td>643063</td>\n",
              "      <td>643007</td>\n",
              "      <td>643045</td>\n",
              "      <td>4</td>\n",
              "      <td>2</td>\n",
              "      <td>61</td>\n",
              "      <td>1</td>\n",
              "      <td>2</td>\n",
              "      <td>3</td>\n",
              "      <td>1</td>\n",
              "      <td>2</td>\n",
              "      <td>0</td>\n",
              "      <td>0</td>\n",
              "    </tr>\n",
              "  </tbody>\n",
              "</table>\n",
              "</div>\n",
              "      <button class=\"colab-df-convert\" onclick=\"convertToInteractive('df-b88e0b7a-82cc-4680-9cbc-9bf2378ed6f7')\"\n",
              "              title=\"Convert this dataframe to an interactive table.\"\n",
              "              style=\"display:none;\">\n",
              "        \n",
              "  <svg xmlns=\"http://www.w3.org/2000/svg\" height=\"24px\"viewBox=\"0 0 24 24\"\n",
              "       width=\"24px\">\n",
              "    <path d=\"M0 0h24v24H0V0z\" fill=\"none\"/>\n",
              "    <path d=\"M18.56 5.44l.94 2.06.94-2.06 2.06-.94-2.06-.94-.94-2.06-.94 2.06-2.06.94zm-11 1L8.5 8.5l.94-2.06 2.06-.94-2.06-.94L8.5 2.5l-.94 2.06-2.06.94zm10 10l.94 2.06.94-2.06 2.06-.94-2.06-.94-.94-2.06-.94 2.06-2.06.94z\"/><path d=\"M17.41 7.96l-1.37-1.37c-.4-.4-.92-.59-1.43-.59-.52 0-1.04.2-1.43.59L10.3 9.45l-7.72 7.72c-.78.78-.78 2.05 0 2.83L4 21.41c.39.39.9.59 1.41.59.51 0 1.02-.2 1.41-.59l7.78-7.78 2.81-2.81c.8-.78.8-2.07 0-2.86zM5.41 20L4 18.59l7.72-7.72 1.47 1.35L5.41 20z\"/>\n",
              "  </svg>\n",
              "      </button>\n",
              "      \n",
              "  <style>\n",
              "    .colab-df-container {\n",
              "      display:flex;\n",
              "      flex-wrap:wrap;\n",
              "      gap: 12px;\n",
              "    }\n",
              "\n",
              "    .colab-df-convert {\n",
              "      background-color: #E8F0FE;\n",
              "      border: none;\n",
              "      border-radius: 50%;\n",
              "      cursor: pointer;\n",
              "      display: none;\n",
              "      fill: #1967D2;\n",
              "      height: 32px;\n",
              "      padding: 0 0 0 0;\n",
              "      width: 32px;\n",
              "    }\n",
              "\n",
              "    .colab-df-convert:hover {\n",
              "      background-color: #E2EBFA;\n",
              "      box-shadow: 0px 1px 2px rgba(60, 64, 67, 0.3), 0px 1px 3px 1px rgba(60, 64, 67, 0.15);\n",
              "      fill: #174EA6;\n",
              "    }\n",
              "\n",
              "    [theme=dark] .colab-df-convert {\n",
              "      background-color: #3B4455;\n",
              "      fill: #D2E3FC;\n",
              "    }\n",
              "\n",
              "    [theme=dark] .colab-df-convert:hover {\n",
              "      background-color: #434B5C;\n",
              "      box-shadow: 0px 1px 3px 1px rgba(0, 0, 0, 0.15);\n",
              "      filter: drop-shadow(0px 1px 2px rgba(0, 0, 0, 0.3));\n",
              "      fill: #FFFFFF;\n",
              "    }\n",
              "  </style>\n",
              "\n",
              "      <script>\n",
              "        const buttonEl =\n",
              "          document.querySelector('#df-b88e0b7a-82cc-4680-9cbc-9bf2378ed6f7 button.colab-df-convert');\n",
              "        buttonEl.style.display =\n",
              "          google.colab.kernel.accessAllowed ? 'block' : 'none';\n",
              "\n",
              "        async function convertToInteractive(key) {\n",
              "          const element = document.querySelector('#df-b88e0b7a-82cc-4680-9cbc-9bf2378ed6f7');\n",
              "          const dataTable =\n",
              "            await google.colab.kernel.invokeFunction('convertToInteractive',\n",
              "                                                     [key], {});\n",
              "          if (!dataTable) return;\n",
              "\n",
              "          const docLinkHtml = 'Like what you see? Visit the ' +\n",
              "            '<a target=\"_blank\" href=https://colab.research.google.com/notebooks/data_table.ipynb>data table notebook</a>'\n",
              "            + ' to learn more about interactive tables.';\n",
              "          element.innerHTML = '';\n",
              "          dataTable['output_type'] = 'display_data';\n",
              "          await google.colab.output.renderOutput(dataTable, element);\n",
              "          const docLink = document.createElement('div');\n",
              "          docLink.innerHTML = docLinkHtml;\n",
              "          element.appendChild(docLink);\n",
              "        }\n",
              "      </script>\n",
              "    </div>\n",
              "  </div>\n",
              "  "
            ]
          },
          "metadata": {},
          "execution_count": 37
        }
      ]
    },
    {
      "cell_type": "code",
      "source": [
        "def label_age2 (row):\n",
        "   if row['Q262Age'] >= 46 and row['Q262Age'] <= 60 :\n",
        "      return 1\n",
        "   return 0"
      ],
      "metadata": {
        "id": "qWtMUYolRRt0"
      },
      "execution_count": 38,
      "outputs": []
    },
    {
      "cell_type": "code",
      "source": [
        "df.apply (lambda row: label_age2(row), axis=1)"
      ],
      "metadata": {
        "id": "R-6LmWJNRZBA"
      },
      "execution_count": null,
      "outputs": []
    },
    {
      "cell_type": "code",
      "source": [
        "df['d_age_third_int'] = df.apply (lambda row: label_age2(row), axis=1)"
      ],
      "metadata": {
        "id": "M11ViUcaRgZr"
      },
      "execution_count": 40,
      "outputs": []
    },
    {
      "cell_type": "code",
      "source": [
        "def label_age3 (row):\n",
        "   if row['Q262Age'] >= 61 :\n",
        "      return 1\n",
        "   return 0"
      ],
      "metadata": {
        "id": "AE_zR8P-RjS2"
      },
      "execution_count": 41,
      "outputs": []
    },
    {
      "cell_type": "code",
      "source": [
        "df.apply (lambda row: label_age3(row), axis=1)"
      ],
      "metadata": {
        "id": "EMjMvzktRo2l"
      },
      "execution_count": null,
      "outputs": []
    },
    {
      "cell_type": "code",
      "source": [
        "df['d_age_fourth_int'] = df.apply (lambda row: label_age3(row), axis=1)"
      ],
      "metadata": {
        "id": "P08gHE2ZRsfr"
      },
      "execution_count": 43,
      "outputs": []
    },
    {
      "cell_type": "code",
      "source": [
        "def label_marital_status (row):\n",
        "   if row['Q273Maritalstatus'] == 1 or row['Q273Maritalstatus'] == 2:\n",
        "      return 1\n",
        "   return 0"
      ],
      "metadata": {
        "id": "acqDEwclSEAm"
      },
      "execution_count": 44,
      "outputs": []
    },
    {
      "cell_type": "code",
      "source": [
        "df.apply (lambda row: label_marital_status(row), axis=1)"
      ],
      "metadata": {
        "id": "J3ofM8sDSTDI"
      },
      "execution_count": null,
      "outputs": []
    },
    {
      "cell_type": "code",
      "source": [
        "df['d_marital_status'] = df.apply (lambda row: label_marital_status(row), axis=1)"
      ],
      "metadata": {
        "id": "CnqAVLkqSYD8"
      },
      "execution_count": 46,
      "outputs": []
    },
    {
      "cell_type": "code",
      "source": [
        "def label_children (row):\n",
        "   if row['Q274Howmanychildrendoyouh'] >= 1 :\n",
        "      return 1\n",
        "   return 0"
      ],
      "metadata": {
        "id": "ys5_zeAtScz1"
      },
      "execution_count": 47,
      "outputs": []
    },
    {
      "cell_type": "code",
      "source": [
        "df.apply (lambda row: label_children(row), axis=1)"
      ],
      "metadata": {
        "id": "q71lgjJTSpeA"
      },
      "execution_count": null,
      "outputs": []
    },
    {
      "cell_type": "code",
      "source": [
        "df['d_children'] = df.apply (lambda row: label_children(row), axis=1)"
      ],
      "metadata": {
        "id": "wcny7bUMSuxX"
      },
      "execution_count": 49,
      "outputs": []
    },
    {
      "cell_type": "code",
      "source": [
        "def label_education (row):\n",
        "   if row['Q275RHighesteducationallevel'] == 1 :\n",
        "      return 1\n",
        "   return 0"
      ],
      "metadata": {
        "id": "u3uD5piDS1C5"
      },
      "execution_count": 50,
      "outputs": []
    },
    {
      "cell_type": "code",
      "source": [
        "df.apply (lambda row: label_education(row), axis=1)"
      ],
      "metadata": {
        "id": "GxMsMKhKTMKn"
      },
      "execution_count": null,
      "outputs": []
    },
    {
      "cell_type": "code",
      "source": [
        "df['d_education_low'] = df.apply (lambda row: label_education(row), axis=1)"
      ],
      "metadata": {
        "id": "EVRWOol2TQAt"
      },
      "execution_count": 52,
      "outputs": []
    },
    {
      "cell_type": "code",
      "source": [
        "def label_education1 (row):\n",
        "   if row['Q275RHighesteducationallevel'] == 2 :\n",
        "      return 1\n",
        "   return 0"
      ],
      "metadata": {
        "id": "SXiJdlrXTZ6B"
      },
      "execution_count": 53,
      "outputs": []
    },
    {
      "cell_type": "code",
      "source": [
        "df.apply (lambda row: label_education1(row), axis=1)"
      ],
      "metadata": {
        "id": "qeZBiQG0TgDf"
      },
      "execution_count": null,
      "outputs": []
    },
    {
      "cell_type": "code",
      "source": [
        "df['d_education_middle'] = df.apply (lambda row: label_education1(row), axis=1)"
      ],
      "metadata": {
        "id": "yPRFNiqPTkMF"
      },
      "execution_count": 55,
      "outputs": []
    },
    {
      "cell_type": "code",
      "source": [
        "def label_education2 (row):\n",
        "   if row['Q275RHighesteducationallevel'] == 3 :\n",
        "      return 1\n",
        "   return 0"
      ],
      "metadata": {
        "id": "BBfJUpX1ToxW"
      },
      "execution_count": 56,
      "outputs": []
    },
    {
      "cell_type": "code",
      "source": [
        "df.apply (lambda row: label_education2(row), axis=1)"
      ],
      "metadata": {
        "id": "iFGgwKDDTs8d"
      },
      "execution_count": null,
      "outputs": []
    },
    {
      "cell_type": "code",
      "source": [
        "df['d_education_high'] = df.apply (lambda row: label_education2(row), axis=1)"
      ],
      "metadata": {
        "id": "Iafzk2qBTtbg"
      },
      "execution_count": 58,
      "outputs": []
    },
    {
      "cell_type": "code",
      "source": [
        "def label_employment (row):\n",
        "   if row['Q279Employmentstatus'] == 1 or row['Q279Employmentstatus'] == 2 or row['Q279Employmentstatus'] == 3:\n",
        "      return 1\n",
        "   return 0"
      ],
      "metadata": {
        "id": "grh1Db_7T1G6"
      },
      "execution_count": 59,
      "outputs": []
    },
    {
      "cell_type": "code",
      "source": [
        "df.apply (lambda row: label_employment(row), axis=1)"
      ],
      "metadata": {
        "id": "RDw-jxkpUM4k"
      },
      "execution_count": null,
      "outputs": []
    },
    {
      "cell_type": "code",
      "source": [
        "df['d_employment'] = df.apply (lambda row: label_employment(row), axis=1)"
      ],
      "metadata": {
        "id": "sFLdSZHmUROK"
      },
      "execution_count": 61,
      "outputs": []
    },
    {
      "cell_type": "code",
      "source": [
        "def label_income (row):\n",
        "   if row['Q288RIncomelevelRecoded'] == 1 :\n",
        "      return 1\n",
        "   return 0"
      ],
      "metadata": {
        "id": "p-qmAAO-UaX0"
      },
      "execution_count": 62,
      "outputs": []
    },
    {
      "cell_type": "code",
      "source": [
        "df.apply (lambda row: label_income(row), axis=1)"
      ],
      "metadata": {
        "id": "_Je-d-8KUiBK"
      },
      "execution_count": null,
      "outputs": []
    },
    {
      "cell_type": "code",
      "source": [
        "df['d_income_low'] = df.apply (lambda row: label_income(row), axis=1)"
      ],
      "metadata": {
        "id": "WW2-u7VdUmDf"
      },
      "execution_count": 64,
      "outputs": []
    },
    {
      "cell_type": "code",
      "source": [
        "def label_income1 (row):\n",
        "   if row['Q288RIncomelevelRecoded'] == 2 :\n",
        "      return 1\n",
        "   return 0"
      ],
      "metadata": {
        "id": "u6JXEUynUthr"
      },
      "execution_count": 65,
      "outputs": []
    },
    {
      "cell_type": "code",
      "source": [
        "df.apply (lambda row: label_income1(row), axis=1)"
      ],
      "metadata": {
        "id": "uMX-bM_RUyfP"
      },
      "execution_count": null,
      "outputs": []
    },
    {
      "cell_type": "code",
      "source": [
        "df['d_income_medium'] = df.apply (lambda row: label_income1(row), axis=1)"
      ],
      "metadata": {
        "id": "Do4vs29GU0Bq"
      },
      "execution_count": 67,
      "outputs": []
    },
    {
      "cell_type": "code",
      "source": [
        "def label_income2 (row):\n",
        "   if row['Q288RIncomelevelRecoded'] == 3 :\n",
        "      return 1\n",
        "   return 0"
      ],
      "metadata": {
        "id": "xPlwOqYiU5cy"
      },
      "execution_count": 68,
      "outputs": []
    },
    {
      "cell_type": "code",
      "source": [
        "df.apply (lambda row: label_income2(row), axis=1)"
      ],
      "metadata": {
        "id": "lXE9fdPaVAoc"
      },
      "execution_count": null,
      "outputs": []
    },
    {
      "cell_type": "code",
      "source": [
        "df['d_income_high'] = df.apply (lambda row: label_income2(row), axis=1)"
      ],
      "metadata": {
        "id": "Nixwck8AVDEI"
      },
      "execution_count": 70,
      "outputs": []
    },
    {
      "cell_type": "code",
      "source": [
        "def label_oil (row):\n",
        "   if row['N_REGION_ISORegionISO31662'] == 643070 or row['N_REGION_ISORegionISO31662'] == 643019 or row['N_REGION_ISORegionISO31662'] == 643055 or row['N_REGION_ISORegionISO31662'] == 643026 or row['N_REGION_ISORegionISO31662'] == 643037 or row['N_REGION_ISORegionISO31662'] == 643017 or row['N_REGION_ISORegionISO31662'] == 643061 or row['N_REGION_ISORegionISO31662'] == 643062 or row['N_REGION_ISORegionISO31662'] == 643027 or row['N_REGION_ISORegionISO31662'] == 643033 or row['N_REGION_ISORegionISO31662'] == 643003:\n",
        "      return 1\n",
        "   return 0"
      ],
      "metadata": {
        "id": "KRhiGwMfVJ5U"
      },
      "execution_count": 71,
      "outputs": []
    },
    {
      "cell_type": "code",
      "source": [
        "df.apply (lambda row: label_oil(row), axis=1)"
      ],
      "metadata": {
        "id": "0nrN5BoyWGUz"
      },
      "execution_count": null,
      "outputs": []
    },
    {
      "cell_type": "code",
      "source": [
        "df['oil_rich'] = df.apply (lambda row: label_oil(row), axis=1)"
      ],
      "metadata": {
        "id": "TJ1FVeK8WJm8"
      },
      "execution_count": 73,
      "outputs": []
    },
    {
      "cell_type": "code",
      "source": [
        "categorical_col_updated = ['Q260Sex']\n",
        "df = pd.get_dummies(df, columns=categorical_col_updated, drop_first=True)"
      ],
      "metadata": {
        "id": "q9DPgPI9X2Di"
      },
      "execution_count": 80,
      "outputs": []
    },
    {
      "cell_type": "code",
      "source": [
        "df.head()"
      ],
      "metadata": {
        "colab": {
          "base_uri": "https://localhost:8080/",
          "height": 297
        },
        "id": "zcGUTgmUYeQO",
        "outputId": "e15b7fae-6327-4e07-9bc4-3d22385c830a"
      },
      "execution_count": 81,
      "outputs": [
        {
          "output_type": "execute_result",
          "data": {
            "text/plain": [
              "   A_YEARYearofsurvey  D_INTERVIEWInterviewID  N_REGION_ISORegionISO31662  \\\n",
              "0                2017               643070001                      643077   \n",
              "1                2017               643070002                      643077   \n",
              "2                2017               643070003                      643077   \n",
              "3                2017               643070004                      643063   \n",
              "4                2017               643070005                      643063   \n",
              "\n",
              "   N_REGION_WVSRegioncountryspe  N_TOWNSettlementname  \\\n",
              "0                        643003                643028   \n",
              "1                        643003                643028   \n",
              "2                        643003                643028   \n",
              "3                        643007                643045   \n",
              "4                        643007                643045   \n",
              "\n",
              "   Q49Satisfactionwithyourlife  Q262Age  Q273Maritalstatus  \\\n",
              "0                            9       36                  1   \n",
              "1                            6       58                  1   \n",
              "2                            9       42                  1   \n",
              "3                            4       47                  6   \n",
              "4                            4       61                  1   \n",
              "\n",
              "   Q274Howmanychildrendoyouh  Q275RHighesteducationallevel  ...  d_children  \\\n",
              "0                          2                             3  ...           1   \n",
              "1                          2                             3  ...           1   \n",
              "2                          2                             3  ...           1   \n",
              "3                          1                             3  ...           1   \n",
              "4                          2                             3  ...           1   \n",
              "\n",
              "   d_education_low  d_education_middle  d_education_high  d_employment  \\\n",
              "0                0                   0                 1             0   \n",
              "1                0                   0                 1             1   \n",
              "2                0                   0                 1             1   \n",
              "3                0                   0                 1             0   \n",
              "4                0                   0                 1             1   \n",
              "\n",
              "   d_income_low  d_income_medium  d_income_high  oil_rich  Q260Sex_2  \n",
              "0             0                0              1         0          1  \n",
              "1             0                1              0         0          1  \n",
              "2             0                1              0         0          0  \n",
              "3             1                0              0         0          1  \n",
              "4             0                1              0         0          1  \n",
              "\n",
              "[5 rows x 27 columns]"
            ],
            "text/html": [
              "\n",
              "  <div id=\"df-524f82e3-7954-4699-bd4a-d37417f58461\">\n",
              "    <div class=\"colab-df-container\">\n",
              "      <div>\n",
              "<style scoped>\n",
              "    .dataframe tbody tr th:only-of-type {\n",
              "        vertical-align: middle;\n",
              "    }\n",
              "\n",
              "    .dataframe tbody tr th {\n",
              "        vertical-align: top;\n",
              "    }\n",
              "\n",
              "    .dataframe thead th {\n",
              "        text-align: right;\n",
              "    }\n",
              "</style>\n",
              "<table border=\"1\" class=\"dataframe\">\n",
              "  <thead>\n",
              "    <tr style=\"text-align: right;\">\n",
              "      <th></th>\n",
              "      <th>A_YEARYearofsurvey</th>\n",
              "      <th>D_INTERVIEWInterviewID</th>\n",
              "      <th>N_REGION_ISORegionISO31662</th>\n",
              "      <th>N_REGION_WVSRegioncountryspe</th>\n",
              "      <th>N_TOWNSettlementname</th>\n",
              "      <th>Q49Satisfactionwithyourlife</th>\n",
              "      <th>Q262Age</th>\n",
              "      <th>Q273Maritalstatus</th>\n",
              "      <th>Q274Howmanychildrendoyouh</th>\n",
              "      <th>Q275RHighesteducationallevel</th>\n",
              "      <th>...</th>\n",
              "      <th>d_children</th>\n",
              "      <th>d_education_low</th>\n",
              "      <th>d_education_middle</th>\n",
              "      <th>d_education_high</th>\n",
              "      <th>d_employment</th>\n",
              "      <th>d_income_low</th>\n",
              "      <th>d_income_medium</th>\n",
              "      <th>d_income_high</th>\n",
              "      <th>oil_rich</th>\n",
              "      <th>Q260Sex_2</th>\n",
              "    </tr>\n",
              "  </thead>\n",
              "  <tbody>\n",
              "    <tr>\n",
              "      <th>0</th>\n",
              "      <td>2017</td>\n",
              "      <td>643070001</td>\n",
              "      <td>643077</td>\n",
              "      <td>643003</td>\n",
              "      <td>643028</td>\n",
              "      <td>9</td>\n",
              "      <td>36</td>\n",
              "      <td>1</td>\n",
              "      <td>2</td>\n",
              "      <td>3</td>\n",
              "      <td>...</td>\n",
              "      <td>1</td>\n",
              "      <td>0</td>\n",
              "      <td>0</td>\n",
              "      <td>1</td>\n",
              "      <td>0</td>\n",
              "      <td>0</td>\n",
              "      <td>0</td>\n",
              "      <td>1</td>\n",
              "      <td>0</td>\n",
              "      <td>1</td>\n",
              "    </tr>\n",
              "    <tr>\n",
              "      <th>1</th>\n",
              "      <td>2017</td>\n",
              "      <td>643070002</td>\n",
              "      <td>643077</td>\n",
              "      <td>643003</td>\n",
              "      <td>643028</td>\n",
              "      <td>6</td>\n",
              "      <td>58</td>\n",
              "      <td>1</td>\n",
              "      <td>2</td>\n",
              "      <td>3</td>\n",
              "      <td>...</td>\n",
              "      <td>1</td>\n",
              "      <td>0</td>\n",
              "      <td>0</td>\n",
              "      <td>1</td>\n",
              "      <td>1</td>\n",
              "      <td>0</td>\n",
              "      <td>1</td>\n",
              "      <td>0</td>\n",
              "      <td>0</td>\n",
              "      <td>1</td>\n",
              "    </tr>\n",
              "    <tr>\n",
              "      <th>2</th>\n",
              "      <td>2017</td>\n",
              "      <td>643070003</td>\n",
              "      <td>643077</td>\n",
              "      <td>643003</td>\n",
              "      <td>643028</td>\n",
              "      <td>9</td>\n",
              "      <td>42</td>\n",
              "      <td>1</td>\n",
              "      <td>2</td>\n",
              "      <td>3</td>\n",
              "      <td>...</td>\n",
              "      <td>1</td>\n",
              "      <td>0</td>\n",
              "      <td>0</td>\n",
              "      <td>1</td>\n",
              "      <td>1</td>\n",
              "      <td>0</td>\n",
              "      <td>1</td>\n",
              "      <td>0</td>\n",
              "      <td>0</td>\n",
              "      <td>0</td>\n",
              "    </tr>\n",
              "    <tr>\n",
              "      <th>3</th>\n",
              "      <td>2017</td>\n",
              "      <td>643070004</td>\n",
              "      <td>643063</td>\n",
              "      <td>643007</td>\n",
              "      <td>643045</td>\n",
              "      <td>4</td>\n",
              "      <td>47</td>\n",
              "      <td>6</td>\n",
              "      <td>1</td>\n",
              "      <td>3</td>\n",
              "      <td>...</td>\n",
              "      <td>1</td>\n",
              "      <td>0</td>\n",
              "      <td>0</td>\n",
              "      <td>1</td>\n",
              "      <td>0</td>\n",
              "      <td>1</td>\n",
              "      <td>0</td>\n",
              "      <td>0</td>\n",
              "      <td>0</td>\n",
              "      <td>1</td>\n",
              "    </tr>\n",
              "    <tr>\n",
              "      <th>4</th>\n",
              "      <td>2017</td>\n",
              "      <td>643070005</td>\n",
              "      <td>643063</td>\n",
              "      <td>643007</td>\n",
              "      <td>643045</td>\n",
              "      <td>4</td>\n",
              "      <td>61</td>\n",
              "      <td>1</td>\n",
              "      <td>2</td>\n",
              "      <td>3</td>\n",
              "      <td>...</td>\n",
              "      <td>1</td>\n",
              "      <td>0</td>\n",
              "      <td>0</td>\n",
              "      <td>1</td>\n",
              "      <td>1</td>\n",
              "      <td>0</td>\n",
              "      <td>1</td>\n",
              "      <td>0</td>\n",
              "      <td>0</td>\n",
              "      <td>1</td>\n",
              "    </tr>\n",
              "  </tbody>\n",
              "</table>\n",
              "<p>5 rows × 27 columns</p>\n",
              "</div>\n",
              "      <button class=\"colab-df-convert\" onclick=\"convertToInteractive('df-524f82e3-7954-4699-bd4a-d37417f58461')\"\n",
              "              title=\"Convert this dataframe to an interactive table.\"\n",
              "              style=\"display:none;\">\n",
              "        \n",
              "  <svg xmlns=\"http://www.w3.org/2000/svg\" height=\"24px\"viewBox=\"0 0 24 24\"\n",
              "       width=\"24px\">\n",
              "    <path d=\"M0 0h24v24H0V0z\" fill=\"none\"/>\n",
              "    <path d=\"M18.56 5.44l.94 2.06.94-2.06 2.06-.94-2.06-.94-.94-2.06-.94 2.06-2.06.94zm-11 1L8.5 8.5l.94-2.06 2.06-.94-2.06-.94L8.5 2.5l-.94 2.06-2.06.94zm10 10l.94 2.06.94-2.06 2.06-.94-2.06-.94-.94-2.06-.94 2.06-2.06.94z\"/><path d=\"M17.41 7.96l-1.37-1.37c-.4-.4-.92-.59-1.43-.59-.52 0-1.04.2-1.43.59L10.3 9.45l-7.72 7.72c-.78.78-.78 2.05 0 2.83L4 21.41c.39.39.9.59 1.41.59.51 0 1.02-.2 1.41-.59l7.78-7.78 2.81-2.81c.8-.78.8-2.07 0-2.86zM5.41 20L4 18.59l7.72-7.72 1.47 1.35L5.41 20z\"/>\n",
              "  </svg>\n",
              "      </button>\n",
              "      \n",
              "  <style>\n",
              "    .colab-df-container {\n",
              "      display:flex;\n",
              "      flex-wrap:wrap;\n",
              "      gap: 12px;\n",
              "    }\n",
              "\n",
              "    .colab-df-convert {\n",
              "      background-color: #E8F0FE;\n",
              "      border: none;\n",
              "      border-radius: 50%;\n",
              "      cursor: pointer;\n",
              "      display: none;\n",
              "      fill: #1967D2;\n",
              "      height: 32px;\n",
              "      padding: 0 0 0 0;\n",
              "      width: 32px;\n",
              "    }\n",
              "\n",
              "    .colab-df-convert:hover {\n",
              "      background-color: #E2EBFA;\n",
              "      box-shadow: 0px 1px 2px rgba(60, 64, 67, 0.3), 0px 1px 3px 1px rgba(60, 64, 67, 0.15);\n",
              "      fill: #174EA6;\n",
              "    }\n",
              "\n",
              "    [theme=dark] .colab-df-convert {\n",
              "      background-color: #3B4455;\n",
              "      fill: #D2E3FC;\n",
              "    }\n",
              "\n",
              "    [theme=dark] .colab-df-convert:hover {\n",
              "      background-color: #434B5C;\n",
              "      box-shadow: 0px 1px 3px 1px rgba(0, 0, 0, 0.15);\n",
              "      filter: drop-shadow(0px 1px 2px rgba(0, 0, 0, 0.3));\n",
              "      fill: #FFFFFF;\n",
              "    }\n",
              "  </style>\n",
              "\n",
              "      <script>\n",
              "        const buttonEl =\n",
              "          document.querySelector('#df-524f82e3-7954-4699-bd4a-d37417f58461 button.colab-df-convert');\n",
              "        buttonEl.style.display =\n",
              "          google.colab.kernel.accessAllowed ? 'block' : 'none';\n",
              "\n",
              "        async function convertToInteractive(key) {\n",
              "          const element = document.querySelector('#df-524f82e3-7954-4699-bd4a-d37417f58461');\n",
              "          const dataTable =\n",
              "            await google.colab.kernel.invokeFunction('convertToInteractive',\n",
              "                                                     [key], {});\n",
              "          if (!dataTable) return;\n",
              "\n",
              "          const docLinkHtml = 'Like what you see? Visit the ' +\n",
              "            '<a target=\"_blank\" href=https://colab.research.google.com/notebooks/data_table.ipynb>data table notebook</a>'\n",
              "            + ' to learn more about interactive tables.';\n",
              "          element.innerHTML = '';\n",
              "          dataTable['output_type'] = 'display_data';\n",
              "          await google.colab.output.renderOutput(dataTable, element);\n",
              "          const docLink = document.createElement('div');\n",
              "          docLink.innerHTML = docLinkHtml;\n",
              "          element.appendChild(docLink);\n",
              "        }\n",
              "      </script>\n",
              "    </div>\n",
              "  </div>\n",
              "  "
            ]
          },
          "metadata": {},
          "execution_count": 81
        }
      ]
    },
    {
      "cell_type": "code",
      "source": [
        "df = df.set_index(['A_YEARYearofsurvey'])"
      ],
      "metadata": {
        "id": "U6uQbDJNZYF-"
      },
      "execution_count": 82,
      "outputs": []
    },
    {
      "cell_type": "code",
      "source": [
        "df['d_sex'] = df['Q260Sex_2']"
      ],
      "metadata": {
        "id": "ZMJRUsNV0S3f"
      },
      "execution_count": 83,
      "outputs": []
    },
    {
      "cell_type": "code",
      "source": [
        "df = df.drop('Q260Sex_2', axis=1)"
      ],
      "metadata": {
        "id": "MCdp_yPT0bGS"
      },
      "execution_count": 84,
      "outputs": []
    },
    {
      "cell_type": "code",
      "source": [
        "#build the model\n",
        "mod = smf.ols(formula='Q49Satisfactionwithyourlife ~ 1 + oil_rich + d_sex + d_income_medium + d_income_high', data=df).fit()\n",
        "print (mod.summary())\n"
      ],
      "metadata": {
        "colab": {
          "base_uri": "https://localhost:8080/"
        },
        "id": "-KhrsMqaWOds",
        "outputId": "aae0b086-aaee-4130-9693-ab8d99da4d94"
      },
      "execution_count": 85,
      "outputs": [
        {
          "output_type": "stream",
          "name": "stdout",
          "text": [
            "                                 OLS Regression Results                                \n",
            "=======================================================================================\n",
            "Dep. Variable:     Q49Satisfactionwithyourlife   R-squared:                       0.081\n",
            "Model:                                     OLS   Adj. R-squared:                  0.079\n",
            "Method:                          Least Squares   F-statistic:                     37.74\n",
            "Date:                         Sat, 12 Nov 2022   Prob (F-statistic):           2.71e-30\n",
            "Time:                                 13:39:26   Log-Likelihood:                -3690.4\n",
            "No. Observations:                         1712   AIC:                             7391.\n",
            "Df Residuals:                             1707   BIC:                             7418.\n",
            "Df Model:                                    4                                         \n",
            "Covariance Type:                     nonrobust                                         \n",
            "===================================================================================\n",
            "                      coef    std err          t      P>|t|      [0.025      0.975]\n",
            "-----------------------------------------------------------------------------------\n",
            "Intercept           5.6915      0.120     47.557      0.000       5.457       5.926\n",
            "oil_rich           -0.2467      0.128     -1.927      0.054      -0.498       0.004\n",
            "d_sex              -0.0824      0.104     -0.794      0.427      -0.286       0.121\n",
            "d_income_medium     1.0739      0.116      9.292      0.000       0.847       1.301\n",
            "d_income_high       2.1807      0.202     10.798      0.000       1.785       2.577\n",
            "==============================================================================\n",
            "Omnibus:                       68.515   Durbin-Watson:                   1.884\n",
            "Prob(Omnibus):                  0.000   Jarque-Bera (JB):               82.159\n",
            "Skew:                          -0.444   Prob(JB):                     1.44e-18\n",
            "Kurtosis:                       3.603   Cond. No.                         6.09\n",
            "==============================================================================\n",
            "\n",
            "Notes:\n",
            "[1] Standard Errors assume that the covariance matrix of the errors is correctly specified.\n"
          ]
        }
      ]
    },
    {
      "cell_type": "code",
      "source": [
        "mod = smf.ols(formula='Q49Satisfactionwithyourlife ~ 1 + oil_rich + d_sex + d_income_medium + d_income_high + d_education_middle + d_education_high + d_employment + d_marital_status + d_children ', data=df)\n",
        "mod_res = mod.fit(cov_type='HC0')\n",
        "mod_res.summary(yname=\"Life satisfaction\")"
      ],
      "metadata": {
        "colab": {
          "base_uri": "https://localhost:8080/",
          "height": 612
        },
        "id": "neR33W2qNnrH",
        "outputId": "ae2860cc-64fb-4dbc-8093-84ff499fbc46"
      },
      "execution_count": 86,
      "outputs": [
        {
          "output_type": "execute_result",
          "data": {
            "text/plain": [
              "<class 'statsmodels.iolib.summary.Summary'>\n",
              "\"\"\"\n",
              "                            OLS Regression Results                            \n",
              "==============================================================================\n",
              "Dep. Variable:      Life satisfaction   R-squared:                       0.088\n",
              "Model:                            OLS   Adj. R-squared:                  0.083\n",
              "Method:                 Least Squares   F-statistic:                     17.17\n",
              "Date:                Sat, 12 Nov 2022   Prob (F-statistic):           2.10e-27\n",
              "Time:                        13:39:32   Log-Likelihood:                -3684.6\n",
              "No. Observations:                1712   AIC:                             7389.\n",
              "Df Residuals:                    1702   BIC:                             7444.\n",
              "Df Model:                           9                                         \n",
              "Covariance Type:                  HC0                                         \n",
              "======================================================================================\n",
              "                         coef    std err          z      P>|z|      [0.025      0.975]\n",
              "--------------------------------------------------------------------------------------\n",
              "Intercept              5.5165      0.218     25.359      0.000       5.090       5.943\n",
              "oil_rich              -0.2553      0.132     -1.936      0.053      -0.514       0.003\n",
              "d_sex                  0.0218      0.111      0.196      0.845      -0.196       0.240\n",
              "d_income_medium        1.0345      0.130      7.966      0.000       0.780       1.289\n",
              "d_income_high          2.1088      0.213      9.897      0.000       1.691       2.526\n",
              "d_education_middle     0.0829      0.196      0.423      0.672      -0.301       0.467\n",
              "d_education_high      -0.0527      0.178     -0.296      0.767      -0.402       0.296\n",
              "d_employment           0.0940      0.113      0.833      0.405      -0.127       0.315\n",
              "d_marital_status       0.3503      0.113      3.110      0.002       0.130       0.571\n",
              "d_children            -0.0845      0.127     -0.663      0.507      -0.334       0.165\n",
              "==============================================================================\n",
              "Omnibus:                       67.142   Durbin-Watson:                   1.884\n",
              "Prob(Omnibus):                  0.000   Jarque-Bera (JB):               80.575\n",
              "Skew:                          -0.437   Prob(JB):                     3.19e-18\n",
              "Kurtosis:                       3.604   Cond. No.                         10.1\n",
              "==============================================================================\n",
              "\n",
              "Notes:\n",
              "[1] Standard Errors are heteroscedasticity robust (HC0)\n",
              "\"\"\""
            ],
            "text/html": [
              "<table class=\"simpletable\">\n",
              "<caption>OLS Regression Results</caption>\n",
              "<tr>\n",
              "  <th>Dep. Variable:</th>    <td>Life satisfaction</td> <th>  R-squared:         </th> <td>   0.088</td>\n",
              "</tr>\n",
              "<tr>\n",
              "  <th>Model:</th>                   <td>OLS</td>        <th>  Adj. R-squared:    </th> <td>   0.083</td>\n",
              "</tr>\n",
              "<tr>\n",
              "  <th>Method:</th>             <td>Least Squares</td>   <th>  F-statistic:       </th> <td>   17.17</td>\n",
              "</tr>\n",
              "<tr>\n",
              "  <th>Date:</th>             <td>Sat, 12 Nov 2022</td>  <th>  Prob (F-statistic):</th> <td>2.10e-27</td>\n",
              "</tr>\n",
              "<tr>\n",
              "  <th>Time:</th>                 <td>13:39:32</td>      <th>  Log-Likelihood:    </th> <td> -3684.6</td>\n",
              "</tr>\n",
              "<tr>\n",
              "  <th>No. Observations:</th>      <td>  1712</td>       <th>  AIC:               </th> <td>   7389.</td>\n",
              "</tr>\n",
              "<tr>\n",
              "  <th>Df Residuals:</th>          <td>  1702</td>       <th>  BIC:               </th> <td>   7444.</td>\n",
              "</tr>\n",
              "<tr>\n",
              "  <th>Df Model:</th>              <td>     9</td>       <th>                     </th>     <td> </td>   \n",
              "</tr>\n",
              "<tr>\n",
              "  <th>Covariance Type:</th>         <td>HC0</td>        <th>                     </th>     <td> </td>   \n",
              "</tr>\n",
              "</table>\n",
              "<table class=\"simpletable\">\n",
              "<tr>\n",
              "           <td></td>             <th>coef</th>     <th>std err</th>      <th>z</th>      <th>P>|z|</th>  <th>[0.025</th>    <th>0.975]</th>  \n",
              "</tr>\n",
              "<tr>\n",
              "  <th>Intercept</th>          <td>    5.5165</td> <td>    0.218</td> <td>   25.359</td> <td> 0.000</td> <td>    5.090</td> <td>    5.943</td>\n",
              "</tr>\n",
              "<tr>\n",
              "  <th>oil_rich</th>           <td>   -0.2553</td> <td>    0.132</td> <td>   -1.936</td> <td> 0.053</td> <td>   -0.514</td> <td>    0.003</td>\n",
              "</tr>\n",
              "<tr>\n",
              "  <th>d_sex</th>              <td>    0.0218</td> <td>    0.111</td> <td>    0.196</td> <td> 0.845</td> <td>   -0.196</td> <td>    0.240</td>\n",
              "</tr>\n",
              "<tr>\n",
              "  <th>d_income_medium</th>    <td>    1.0345</td> <td>    0.130</td> <td>    7.966</td> <td> 0.000</td> <td>    0.780</td> <td>    1.289</td>\n",
              "</tr>\n",
              "<tr>\n",
              "  <th>d_income_high</th>      <td>    2.1088</td> <td>    0.213</td> <td>    9.897</td> <td> 0.000</td> <td>    1.691</td> <td>    2.526</td>\n",
              "</tr>\n",
              "<tr>\n",
              "  <th>d_education_middle</th> <td>    0.0829</td> <td>    0.196</td> <td>    0.423</td> <td> 0.672</td> <td>   -0.301</td> <td>    0.467</td>\n",
              "</tr>\n",
              "<tr>\n",
              "  <th>d_education_high</th>   <td>   -0.0527</td> <td>    0.178</td> <td>   -0.296</td> <td> 0.767</td> <td>   -0.402</td> <td>    0.296</td>\n",
              "</tr>\n",
              "<tr>\n",
              "  <th>d_employment</th>       <td>    0.0940</td> <td>    0.113</td> <td>    0.833</td> <td> 0.405</td> <td>   -0.127</td> <td>    0.315</td>\n",
              "</tr>\n",
              "<tr>\n",
              "  <th>d_marital_status</th>   <td>    0.3503</td> <td>    0.113</td> <td>    3.110</td> <td> 0.002</td> <td>    0.130</td> <td>    0.571</td>\n",
              "</tr>\n",
              "<tr>\n",
              "  <th>d_children</th>         <td>   -0.0845</td> <td>    0.127</td> <td>   -0.663</td> <td> 0.507</td> <td>   -0.334</td> <td>    0.165</td>\n",
              "</tr>\n",
              "</table>\n",
              "<table class=\"simpletable\">\n",
              "<tr>\n",
              "  <th>Omnibus:</th>       <td>67.142</td> <th>  Durbin-Watson:     </th> <td>   1.884</td>\n",
              "</tr>\n",
              "<tr>\n",
              "  <th>Prob(Omnibus):</th> <td> 0.000</td> <th>  Jarque-Bera (JB):  </th> <td>  80.575</td>\n",
              "</tr>\n",
              "<tr>\n",
              "  <th>Skew:</th>          <td>-0.437</td> <th>  Prob(JB):          </th> <td>3.19e-18</td>\n",
              "</tr>\n",
              "<tr>\n",
              "  <th>Kurtosis:</th>      <td> 3.604</td> <th>  Cond. No.          </th> <td>    10.1</td>\n",
              "</tr>\n",
              "</table><br/><br/>Notes:<br/>[1] Standard Errors are heteroscedasticity robust (HC0)"
            ]
          },
          "metadata": {},
          "execution_count": 86
        }
      ]
    },
    {
      "cell_type": "code",
      "source": [
        "df.rename(columns={'Q49Satisfactionwithyourlife': 'Life_satisfaction'}, inplace=True)"
      ],
      "metadata": {
        "id": "iHdUfnH_1xQA"
      },
      "execution_count": 87,
      "outputs": []
    },
    {
      "cell_type": "code",
      "source": [
        "#make sense to show only the one with dummies\n",
        "mod = smf.ols(formula='Life_satisfaction ~ 1 + oil_rich + d_sex + d_income_medium + d_income_high + d_education_middle + d_education_high + d_employment + d_marital_status + d_children ', data=df)\n",
        "mod_res = mod.fit(cov_type='HC0')\n",
        "all_regressors = sorted(list(set(mod.exog_names)))\n",
        "all_regressors_no_fe = [var_name for var_name in all_regressors if not var_name.startswith('d_')]\n",
        "\n",
        "\n",
        "print (summary_col(mod_res, stars = True, regressor_order = all_regressors_no_fe, drop_omitted=True))"
      ],
      "metadata": {
        "colab": {
          "base_uri": "https://localhost:8080/"
        },
        "id": "uPF_7JnOvoYH",
        "outputId": "2271a9c6-b07d-4595-b6a2-54c8d1e12d06"
      },
      "execution_count": 90,
      "outputs": [
        {
          "output_type": "stream",
          "name": "stdout",
          "text": [
            "\n",
            "================================\n",
            "               Life_satisfaction\n",
            "--------------------------------\n",
            "Intercept      5.5165***        \n",
            "               (0.2175)         \n",
            "oil_rich       -0.2553*         \n",
            "               (0.1319)         \n",
            "R-squared      0.0875           \n",
            "R-squared Adj. 0.0827           \n",
            "================================\n",
            "Standard errors in parentheses.\n",
            "* p<.1, ** p<.05, ***p<.01\n"
          ]
        }
      ]
    }
  ]
}
